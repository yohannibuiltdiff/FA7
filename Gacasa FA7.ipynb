{
  "cells": [
    {
      "cell_type": "code",
      "execution_count": 21,
      "metadata": {
        "id": "c7RHE5acWZxs"
      },
      "outputs": [],
      "source": [
        "\n",
        "import numpy as np\n",
        "from scipy import stats\n",
        "import matplotlib.pyplot as plt\n",
        "import seaborn as sns\n",
        "eye_movements_data = pd.read_csv(\"/content/drive/MyDrive/Csv folder/Eye Movements.csv\")"
      ]
    },
    {
      "cell_type": "markdown",
      "metadata": {
        "id": "jrVKrmKNew9V"
      },
      "source": [
        "# Assumption 1: Independent Samples\n",
        "Our dependent variable (Critical Recall) is Continuous"
      ]
    },
    {
      "cell_type": "markdown",
      "metadata": {
        "id": "1Jhu1coefgPW"
      },
      "source": [
        "# Assumption 2: Group Categorization\n",
        "Our independent variable (Condition) consists of two categorical groups (Fixation,Horizontal)"
      ]
    },
    {
      "cell_type": "markdown",
      "metadata": {
        "id": "Ra7ZuajhhP-P"
      },
      "source": [
        "#Assumption 3: Independence of dependent variable\n",
        "in totality we have 49 participants which are both categorized in two categorical groups. 24 in Fixation while 25 in Horizontal."
      ]
    },
    {
      "cell_type": "markdown",
      "metadata": {
        "id": "yF2pY0zVXPI8"
      },
      "source": [
        "# Assumption 3: Check for homogeneity of variances"
      ]
    },
    {
      "cell_type": "code",
      "execution_count": 20,
      "metadata": {
        "colab": {
          "base_uri": "https://localhost:8080/"
        },
        "id": "0c3VYyKMe30X",
        "outputId": "5e43c259-5f0a-40dc-82e9-530d56fe8b07"
      },
      "outputs": [
        {
          "name": "stdout",
          "output_type": "stream",
          "text": [
            "Levene's test for homogeneity of variances: p-value = 0.008670566634332692\n"
          ]
        }
      ],
      "source": [
        "group1 = eye_movements_data[eye_movements_data['Condition'] == 'Fixation']['CriticalRecall']\n",
        "group2 = eye_movements_data[eye_movements_data['Condition'] == 'Horizontal']['CriticalRecall']\n",
        "stat, p_value = stats.levene(group1, group2)\n",
        "print(f\"Levene's test for homogeneity of variances: p-value = {p_value}\")\n"
      ]
    },
    {
      "cell_type": "markdown",
      "metadata": {
        "id": "Yz7jL13eXQdM"
      },
      "source": [
        "# Assumption 4: Normality"
      ]
    },
    {
      "cell_type": "code",
      "execution_count": 12,
      "metadata": {
        "colab": {
          "base_uri": "https://localhost:8080/"
        },
        "id": "dawLuN3weZau",
        "outputId": "9126b7c9-94e7-4853-913b-ac9b127942ff"
      },
      "outputs": [
        {
          "name": "stdout",
          "output_type": "stream",
          "text": [
            "Shapiro-Wilk test for normality: p-value = 0.01709289476275444\n"
          ]
        }
      ],
      "source": [
        "stat, p_value = stats.shapiro(eye_movements_data['CriticalRecall'])\n",
        "print(f\"Shapiro-Wilk test for normality: p-value = {p_value}\")"
      ]
    },
    {
      "cell_type": "markdown",
      "metadata": {
        "id": "iLvz3XINXSkW"
      },
      "source": [
        "# Assumption 5: Absence of outliers"
      ]
    },
    {
      "cell_type": "code",
      "execution_count": 10,
      "metadata": {
        "colab": {
          "base_uri": "https://localhost:8080/"
        },
        "id": "J912xD8eXUS3",
        "outputId": "be192337-fc9e-408e-acc6-d31149e4f267"
      },
      "outputs": [
        {
          "name": "stdout",
          "output_type": "stream",
          "text": [
            "Independent samples t-test: t-statistic = 2.845274620058386, p-value = 0.006553815987160374\n"
          ]
        }
      ],
      "source": [
        "statistic, p_value = stats.ttest_ind(group1, group2)\n",
        "print(f\"Independent samples t-test: t-statistic = {statistic}, p-value = {p_value}\")"
      ]
    },
    {
      "cell_type": "code",
      "execution_count": 11,
      "metadata": {
        "colab": {
          "base_uri": "https://localhost:8080/"
        },
        "id": "__y_LhPoXWOX",
        "outputId": "0afafa2f-84ec-46bd-8106-d2550216ffca"
      },
      "outputs": [
        {
          "name": "stdout",
          "output_type": "stream",
          "text": [
            "The difference in mean CriticalRecall between Fixed and Horizontal conditions is statistically significant.\n"
          ]
        }
      ],
      "source": [
        "if p_value < 0.05:\n",
        "    print(\"The difference in mean CriticalRecall between Fixed and Horizontal conditions is statistically significant.\")\n",
        "else:\n",
        "    print(\"There is no significant difference in mean CriticalRecall between Fixed and Horizontal conditions.\")"
      ]
    }
  ],
  "metadata": {
    "colab": {
      "provenance": []
    },
    "kernelspec": {
      "display_name": "Python 3",
      "name": "python3"
    },
    "language_info": {
      "name": "python"
    }
  },
  "nbformat": 4,
  "nbformat_minor": 0
}
